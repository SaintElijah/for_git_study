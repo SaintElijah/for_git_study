{
 "cells": [
  {
   "cell_type": "code",
   "execution_count": 1,
   "id": "19b7ac55",
   "metadata": {},
   "outputs": [
    {
     "name": "stdout",
     "output_type": "stream",
     "text": [
      "The number of times to exceed mt fuji height is:  26\n"
     ]
    }
   ],
   "source": [
    "#PROBLEM 1: How many times to fold paper to exceed the height of Mt. Fuji\n",
    "thickness = 0.00008\n",
    "h_mt_fuji = 3776\n",
    "folded_thickness = 0.00008*2\n",
    "for i in range (1,43):\n",
    "    if h_mt_fuji >=folded_thickness:\n",
    "        folded_thickness = folded_thickness*2\n",
    "        #print(i,folded_thickness)\n",
    "    else:\n",
    "        break\n",
    "print(\"The number of times to exceed mt fuji height is: \",i)"
   ]
  },
  {
   "cell_type": "code",
   "execution_count": 2,
   "id": "e9ff977c",
   "metadata": {},
   "outputs": [
    {
     "name": "stdout",
     "output_type": "stream",
     "text": [
      "Enter height: 40175000000000000\n",
      "The number of times required to exceed the height 4.0175e+16 is:  42\n"
     ]
    }
   ],
   "source": [
    "#PROBLEM 2: Function corresponding to arbitary thickness\n",
    "def folds(height):\n",
    "    thickness = 0.00008\n",
    "    fold = 0.00008*2\n",
    "    for i in range(1,43):\n",
    "        if height >= fold:\n",
    "            fold = fold*2\n",
    "        else:\n",
    "            break\n",
    "    return i\n",
    "\n",
    "#now let use the function to output number of any height\n",
    "#the closet non-sun star is 4.0175x10**16 which is 40175000000000000\n",
    "height = float(input(\"Enter height: \"))\n",
    "print(\"The number of times required to exceed the height \" +str(height)+ \" is: \",folds(height))"
   ]
  },
  {
   "cell_type": "code",
   "execution_count": 3,
   "id": "bed4d4f3",
   "metadata": {},
   "outputs": [
    {
     "name": "stdout",
     "output_type": "stream",
     "text": [
      "Enter height: 3776\n"
     ]
    },
    {
     "data": {
      "text/plain": [
       "'The number of length of 26 folds is : 188646348487.24014'"
      ]
     },
     "execution_count": 3,
     "metadata": {},
     "output_type": "execute_result"
    }
   ],
   "source": [
    "#PROBLEM 3: Required paper length\n",
    "import math\n",
    "def lengths(n_times):\n",
    "    thickness = 0.00008\n",
    "    length = (math.pi * thickness *(2**n_times + 4)*(2**n_times - 1))/6\n",
    "    return \"The number of length of \"+str(n_times)+\" folds is : \"+str(length)\n",
    "#now to get the number of times a paper is fold and the lenght of the paper, let implement this\n",
    "height = float(input(\"Enter height: \"))\n",
    "lengths(folds(height))\n",
    "    "
   ]
  },
  {
   "cell_type": "code",
   "execution_count": 6,
   "id": "ab20e64b",
   "metadata": {},
   "outputs": [
    {
     "data": {
      "text/plain": [
       "'The number of length of 42 folds is : 8.102298610429717e+20'"
      ]
     },
     "execution_count": 6,
     "metadata": {},
     "output_type": "execute_result"
    }
   ],
   "source": [
    "#the length of paper needed to reach the moon\n",
    "#According to google the distance of the moon is 384.4 milliion meters\n",
    "#let use this to output the number of times and the paper needed to reach the moon\n",
    "h_moon = 384400000\n",
    "lengths(folds(h_moon))"
   ]
  },
  {
   "cell_type": "code",
   "execution_count": 8,
   "id": "fca92841",
   "metadata": {},
   "outputs": [
    {
     "data": {
      "text/plain": [
       "'The number of length of 26 folds is : 188646348487.24014'"
      ]
     },
     "execution_count": 8,
     "metadata": {},
     "output_type": "execute_result"
    }
   ],
   "source": [
    "#the length of paper needed to reach the Mt. Fuji\n",
    "#height of Mt. Fuji according to the test is 3776m\n",
    "h_mt_fuji = 3776\n",
    "lengths(folds(h_mt_fuji))"
   ]
  },
  {
   "cell_type": "code",
   "execution_count": 9,
   "id": "fec5014d",
   "metadata": {},
   "outputs": [
    {
     "data": {
      "text/plain": [
       "'The number of length of 42 folds is : 8.102298610429717e+20'"
      ]
     },
     "execution_count": 9,
     "metadata": {},
     "output_type": "execute_result"
    }
   ],
   "source": [
    "#the length of paper needed to reach the star closet to the sun\n",
    "#height of star closet to the sun according to the test is 4.0175x10**16 which is 40175000000000000\n",
    "h_star = 40175000000000000\n",
    "lengths(folds(h_star))"
   ]
  },
  {
   "cell_type": "code",
   "execution_count": null,
   "id": "db018138",
   "metadata": {},
   "outputs": [],
   "source": []
  }
 ],
 "metadata": {
  "kernelspec": {
   "display_name": "Python 3 (ipykernel)",
   "language": "python",
   "name": "python3"
  },
  "language_info": {
   "codemirror_mode": {
    "name": "ipython",
    "version": 3
   },
   "file_extension": ".py",
   "mimetype": "text/x-python",
   "name": "python",
   "nbconvert_exporter": "python",
   "pygments_lexer": "ipython3",
   "version": "3.8.10"
  }
 },
 "nbformat": 4,
 "nbformat_minor": 5
}
