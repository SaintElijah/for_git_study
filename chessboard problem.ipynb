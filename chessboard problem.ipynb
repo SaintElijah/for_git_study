{
 "cells": [
  {
   "cell_type": "code",
   "execution_count": 1,
   "id": "94cb1c30",
   "metadata": {},
   "outputs": [
    {
     "name": "stdout",
     "output_type": "stream",
     "text": [
      "Arrange wheat on a plate of 4 sqare (list)：[1, 2, 4, 8]\n"
     ]
    }
   ],
   "source": [
    "n_squares = 4\n",
    "small_board_list = [1]\n",
    "for _ in range(n_squares - 1):\n",
    "    small_board_list.append(2*small_board_list[-1])\n",
    "print(\"Arrange wheat on a plate of 4 sqare (list)：{}\".format(small_board_list))"
   ]
  },
  {
   "cell_type": "code",
   "execution_count": 2,
   "id": "2208b515",
   "metadata": {},
   "outputs": [
    {
     "name": "stdout",
     "output_type": "stream",
     "text": [
      "Arrange wheat on a plate of 4 sqare（ndarray）：[1 2 4 8]\n"
     ]
    }
   ],
   "source": [
    "import numpy as np\n",
    "\n",
    "small_board_ndarray = np.array(small_board_list)\n",
    "print(\"Arrange wheat on a plate of 4 sqare（ndarray）：{}\".format(small_board_ndarray))"
   ]
  },
  {
   "cell_type": "code",
   "execution_count": 3,
   "id": "e1cd7d31",
   "metadata": {},
   "outputs": [
    {
     "data": {
      "text/plain": [
       "array([[1, 2],\n",
       "       [4, 8]])"
      ]
     },
     "execution_count": 3,
     "metadata": {},
     "output_type": "execute_result"
    }
   ],
   "source": [
    "small_board_ndarray.reshape(2,2)"
   ]
  },
  {
   "cell_type": "code",
   "execution_count": 4,
   "id": "ef9b5eab",
   "metadata": {},
   "outputs": [
    {
     "name": "stdout",
     "output_type": "stream",
     "text": [
      "Wheat across the chessboard6 64squares (list)：[1, 2, 4, 8, 16, 32, 64, 128, 256, 512, 1024, 2048, 4096, 8192, 16384, 32768, 65536, 131072, 262144, 524288, 1048576, 2097152, 4194304, 8388608, 16777216, 33554432, 67108864, 134217728, 268435456, 536870912, 1073741824, 2147483648, 4294967296, 8589934592, 17179869184, 34359738368, 68719476736, 137438953472, 274877906944, 549755813888, 1099511627776, 2199023255552, 4398046511104, 8796093022208, 17592186044416, 35184372088832, 70368744177664, 140737488355328, 281474976710656, 562949953421312, 1125899906842624, 2251799813685248, 4503599627370496, 9007199254740992, 18014398509481984, 36028797018963968, 72057594037927936, 144115188075855872, 288230376151711744, 576460752303423488, 1152921504606846976, 2305843009213693952, 4611686018427387904, 9223372036854775808]\n"
     ]
    }
   ],
   "source": [
    "#WHEAT ACROSS THE CHESS BOARD\n",
    "n_squares = 64\n",
    "small_board_list = [1]\n",
    "for _ in range(n_squares - 1):\n",
    "    small_board_list.append(2*small_board_list[-1])\n",
    "print(\"Wheat across the chessboard6 64squares (list)：{}\".format(small_board_list))"
   ]
  },
  {
   "cell_type": "code",
   "execution_count": 5,
   "id": "d8f31978",
   "metadata": {},
   "outputs": [
    {
     "name": "stdout",
     "output_type": "stream",
     "text": [
      "Arrange wheat on a plate of 4 sqare（ndarray）：[[                  1                   2                   4\n",
      "                    8                  16                  32\n",
      "                   64                 128]\n",
      " [                256                 512                1024\n",
      "                 2048                4096                8192\n",
      "                16384               32768]\n",
      " [              65536              131072              262144\n",
      "               524288             1048576             2097152\n",
      "              4194304             8388608]\n",
      " [           16777216            33554432            67108864\n",
      "            134217728           268435456           536870912\n",
      "           1073741824          2147483648]\n",
      " [         4294967296          8589934592         17179869184\n",
      "          34359738368         68719476736        137438953472\n",
      "         274877906944        549755813888]\n",
      " [      1099511627776       2199023255552       4398046511104\n",
      "        8796093022208      17592186044416      35184372088832\n",
      "       70368744177664     140737488355328]\n",
      " [    281474976710656     562949953421312    1125899906842624\n",
      "     2251799813685248    4503599627370496    9007199254740992\n",
      "    18014398509481984   36028797018963968]\n",
      " [  72057594037927936  144115188075855872  288230376151711744\n",
      "   576460752303423488 1152921504606846976 2305843009213693952\n",
      "  4611686018427387904 9223372036854775808]]\n"
     ]
    }
   ],
   "source": [
    "small_board_ndarr = np.array(small_board_list).astype(np.uint64)\n",
    "small_board_ndarr = small_board_ndarr.reshape(8,8)\n",
    "print(\"Arrange wheat on a plate of 4 sqare（ndarray）：{}\".format(small_board_ndarr))"
   ]
  },
  {
   "cell_type": "code",
   "execution_count": 6,
   "id": "cff73112",
   "metadata": {},
   "outputs": [
    {
     "name": "stdout",
     "output_type": "stream",
     "text": [
      "The number of wheat on 2by2 sqare (ndarray)：[[1 2]\n",
      " [4 8]]\n"
     ]
    }
   ],
   "source": [
    "#PROBLEM 1\n",
    "n_squares = 4\n",
    "small_board_list = [1]\n",
    "for _ in range(n_squares - 1):\n",
    "    small_board_list.append(2*small_board_list[-1])\n",
    "small_board_ndarray = np.array(small_board_list).reshape(2,2)\n",
    "print(\"The number of wheat on 2by2 sqare (ndarray)：{}\".format(small_board_ndarray))"
   ]
  },
  {
   "cell_type": "code",
   "execution_count": 7,
   "id": "dc9bddb9",
   "metadata": {},
   "outputs": [
    {
     "data": {
      "text/plain": [
       "array([[0., 0.],\n",
       "       [0., 0.]])"
      ]
     },
     "execution_count": 7,
     "metadata": {},
     "output_type": "execute_result"
    }
   ],
   "source": [
    "#tow dimensional array for zero function\n",
    "ndarray = np.zeros((2,2))\n",
    "ndarray"
   ]
  },
  {
   "cell_type": "code",
   "execution_count": 8,
   "id": "7988d738",
   "metadata": {},
   "outputs": [
    {
     "name": "stdout",
     "output_type": "stream",
     "text": [
      "[[1. 2.]\n",
      " [4. 8.]]\n"
     ]
    }
   ],
   "source": [
    "#replacing values\n",
    "ndarray[0][0] = 1\n",
    "ndarray[0][1] = 2\n",
    "ndarray[1][0] = 4\n",
    "ndarray[1][1] = 8\n",
    "print(ndarray)"
   ]
  },
  {
   "cell_type": "code",
   "execution_count": 9,
   "id": "4c6d8c93",
   "metadata": {},
   "outputs": [
    {
     "name": "stdout",
     "output_type": "stream",
     "text": [
      "Number of wheat on 8by8 chessboard is:\n",
      "[[                  1                   2                   4\n",
      "                    8                  16                  32\n",
      "                   64                 128]\n",
      " [                256                 512                1024\n",
      "                 2048                4096                8192\n",
      "                16384               32768]\n",
      " [              65536              131072              262144\n",
      "               524288             1048576             2097152\n",
      "              4194304             8388608]\n",
      " [           16777216            33554432            67108864\n",
      "            134217728           268435456           536870912\n",
      "           1073741824          2147483648]\n",
      " [         4294967296          8589934592         17179869184\n",
      "          34359738368         68719476736        137438953472\n",
      "         274877906944        549755813888]\n",
      " [      1099511627776       2199023255552       4398046511104\n",
      "        8796093022208      17592186044416      35184372088832\n",
      "       70368744177664     140737488355328]\n",
      " [    281474976710656     562949953421312    1125899906842624\n",
      "     2251799813685248    4503599627370496    9007199254740992\n",
      "    18014398509481984   36028797018963968]\n",
      " [  72057594037927936  144115188075855872  288230376151711744\n",
      "   576460752303423488 1152921504606846976 2305843009213693952\n",
      "  4611686018427387904 9223372036854775808]]\n"
     ]
    }
   ],
   "source": [
    "#PROBLEM 2\n",
    "def num_of_wheat(n,m):\n",
    "    chess_square = n*m\n",
    "    chessBoardlist = [1]\n",
    "    for square in range (chess_square -1):\n",
    "        chessBoardlist.append(2*chessBoardlist[square])\n",
    "        \n",
    "    return np.array(chessBoardlist).reshape(n,m).astype(np.uint64)\n",
    "print(\"Number of wheat on 8by8 chessboard is:\")\n",
    "print(num_of_wheat(8,8))"
   ]
  },
  {
   "cell_type": "code",
   "execution_count": 10,
   "id": "2b249d0d",
   "metadata": {},
   "outputs": [
    {
     "name": "stdout",
     "output_type": "stream",
     "text": [
      "total wheat is  18446744073709551615\n"
     ]
    }
   ],
   "source": [
    "#PROBLEM 3\n",
    "chessboard_ndarray = num_of_wheat(8,8)\n",
    "total_wheat = chessboard_ndarray.sum()\n",
    "print(\"total wheat is \", total_wheat)"
   ]
  },
  {
   "cell_type": "code",
   "execution_count": 11,
   "id": "5d04339e",
   "metadata": {},
   "outputs": [
    {
     "name": "stdout",
     "output_type": "stream",
     "text": [
      "average wheat is  [9.04252160e+15 1.80850432e+16 3.61700864e+16 7.23401728e+16\n",
      " 1.44680346e+17 2.89360691e+17 5.78721383e+17 1.15744277e+18]\n"
     ]
    }
   ],
   "source": [
    "#average\n",
    "ave_wheat = num_of_wheat(8,8).mean(axis =0)\n",
    "print(\"average wheat is \", ave_wheat)"
   ]
  },
  {
   "cell_type": "code",
   "execution_count": 12,
   "id": "09342dc6",
   "metadata": {},
   "outputs": [
    {
     "data": {
      "image/png": "[encoded data removed]",
      "text/plain": [
       "<Figure size 640x480 with 1 Axes>"
      ]
     },
     "metadata": {},
     "output_type": "display_data"
    }
   ],
   "source": [
    "#plotting graph\n",
    "import matplotlib.pyplot as plt\n",
    "%matplotlib inline\n",
    "\n",
    "plt.xlabel(\"column\")\n",
    "plt.ylabel(\"number\")\n",
    "plt.title(\"number in each column\")\n",
    "plt.bar(np.arange(1,4), np.array([1, 2, 3]))\n",
    "plt.show()"
   ]
  },
  {
   "cell_type": "code",
   "execution_count": 13,
   "id": "85ae47bd",
   "metadata": {},
   "outputs": [
    {
     "name": "stdout",
     "output_type": "stream",
     "text": [
      "[1, 2, 4, 8, 16, 32, 64, 128, 256, 512, 1024, 2048, 4096, 8192, 16384, 32768, 65536, 131072, 262144, 524288, 1048576, 2097152, 4194304, 8388608, 16777216, 33554432, 67108864, 134217728, 268435456, 536870912, 1073741824, 2147483648, 4294967296, 8589934592, 17179869184, 34359738368, 68719476736, 137438953472, 274877906944, 549755813888, 1099511627776, 2199023255552, 4398046511104, 8796093022208, 17592186044416, 35184372088832, 70368744177664, 140737488355328, 281474976710656, 562949953421312, 1125899906842624, 2251799813685248, 4503599627370496, 9007199254740992, 18014398509481984, 36028797018963968, 72057594037927936, 144115188075855872, 288230376151711744, 576460752303423488, 1152921504606846976, 2305843009213693952, 4611686018427387904, 9223372036854775808]\n"
     ]
    }
   ],
   "source": [
    "#PROBLEM 4\n",
    "n_squares = 64\n",
    "small_board_list = [1]\n",
    "for _ in range(n_squares - 1):\n",
    "    small_board_list.append(2*small_board_list[-1])\n",
    "print(small_board_list)"
   ]
  },
  {
   "cell_type": "code",
   "execution_count": 14,
   "id": "8211a9b0",
   "metadata": {},
   "outputs": [
    {
     "data": {
      "image/png": "[encoded data removed]",
      "text/plain": [
       "<Figure size 640x480 with 1 Axes>"
      ]
     },
     "metadata": {},
     "output_type": "display_data"
    }
   ],
   "source": [
    "#ploting heat map\n",
    "plt.xlabel(\"column\")\n",
    "plt.ylabel(\"row\")\n",
    "plt.title(\"heatmap\")\n",
    "plt.pcolor(np.array(small_board_list).reshape(8, 8))\n",
    "plt.show()"
   ]
  },
  {
   "cell_type": "code",
   "execution_count": 15,
   "id": "0f270acb",
   "metadata": {},
   "outputs": [
    {
     "name": "stdout",
     "output_type": "stream",
     "text": [
      "first half\n",
      "[[         1          2          4          8         16         32\n",
      "          64        128]\n",
      " [       256        512       1024       2048       4096       8192\n",
      "       16384      32768]\n",
      " [     65536     131072     262144     524288    1048576    2097152\n",
      "     4194304    8388608]\n",
      " [  16777216   33554432   67108864  134217728  268435456  536870912\n",
      "  1073741824 2147483648]]\n",
      "/n\n",
      "second half\n",
      "[[         4294967296          8589934592         17179869184\n",
      "          34359738368         68719476736        137438953472\n",
      "         274877906944        549755813888]\n",
      " [      1099511627776       2199023255552       4398046511104\n",
      "        8796093022208      17592186044416      35184372088832\n",
      "       70368744177664     140737488355328]\n",
      " [    281474976710656     562949953421312    1125899906842624\n",
      "     2251799813685248    4503599627370496    9007199254740992\n",
      "    18014398509481984   36028797018963968]\n",
      " [  72057594037927936  144115188075855872  288230376151711744\n",
      "   576460752303423488 1152921504606846976 2305843009213693952\n",
      "  4611686018427387904 9223372036854775808]]\n"
     ]
    }
   ],
   "source": [
    "#PROBLEM 5\n",
    "#data creation\n",
    "whole_chessboard = num_of_wheat(8,8)\n",
    "#spliting\n",
    "first_half = whole_chessboard[0:4]\n",
    "second_half = whole_chessboard[4:8]\n",
    "print(\"first half\")\n",
    "print(first_half)\n",
    "print(\"/n\")\n",
    "print(\"second half\")\n",
    "print(second_half)"
   ]
  },
  {
   "cell_type": "code",
   "execution_count": 16,
   "id": "5592ca99",
   "metadata": {},
   "outputs": [
    {
     "name": "stdout",
     "output_type": "stream",
     "text": [
      "first half: 4294967295\n",
      "second half: 18446744069414584320\n",
      "the second half is 4294967296.0 times longer than the first half\n"
     ]
    }
   ],
   "source": [
    "#sum of halfs\n",
    "sum_first_half = first_half.sum()\n",
    "sum_second_half = second_half.sum()\n",
    "print(\"first half:\",sum_first_half)\n",
    "print(\"second half:\",sum_second_half)\n",
    "num_times = sum_second_half / sum_first_half\n",
    "print(\"the second half is {} times longer than the first half\".format(num_times))"
   ]
  },
  {
   "cell_type": "code",
   "execution_count": 17,
   "id": "e6e28698",
   "metadata": {},
   "outputs": [
    {
     "name": "stdout",
     "output_type": "stream",
     "text": [
      "Number of wheat on 8by8 chessboard is:\n",
      "[1.00000000e+00 2.00000000e+00 4.00000000e+00 8.00000000e+00\n",
      " 1.60000000e+01 3.20000000e+01 6.40000000e+01 1.28000000e+02\n",
      " 2.56000000e+02 5.12000000e+02 1.02400000e+03 2.04800000e+03\n",
      " 4.09600000e+03 8.19200000e+03 1.63840000e+04 3.27680000e+04\n",
      " 6.55360000e+04 1.31072000e+05 2.62144000e+05 5.24288000e+05\n",
      " 1.04857600e+06 2.09715200e+06 4.19430400e+06 8.38860800e+06\n",
      " 1.67772160e+07 3.35544320e+07 6.71088640e+07 1.34217728e+08\n",
      " 2.68435456e+08 5.36870912e+08 1.07374182e+09 2.14748365e+09\n",
      " 4.29496730e+09 8.58993459e+09 1.71798692e+10 3.43597384e+10\n",
      " 6.87194767e+10 1.37438953e+11 2.74877907e+11 5.49755814e+11\n",
      " 1.09951163e+12 2.19902326e+12 4.39804651e+12 8.79609302e+12\n",
      " 1.75921860e+13 3.51843721e+13 7.03687442e+13 1.40737488e+14\n",
      " 2.81474977e+14 5.62949953e+14 1.12589991e+15 2.25179981e+15\n",
      " 4.50359963e+15 9.00719925e+15 1.80143985e+16 3.60287970e+16\n",
      " 7.20575940e+16 1.44115188e+17 2.88230376e+17 5.76460752e+17\n",
      " 1.15292150e+18 2.30584301e+18 4.61168602e+18 9.22337204e+18]\n"
     ]
    }
   ],
   "source": [
    "#PROBLEM 6\n",
    "def num_of_wheat_append(n,m):\n",
    "    chess_square = n*m\n",
    "    chessBoardlist = np.array([1]).astype(np.uint64)\n",
    "    for seed in range (chess_square -1):\n",
    "        chessBoardlist = np.append(chessBoardlist, 2*chessBoardlist[-1])\n",
    "        \n",
    "    return chessBoardlist\n",
    "print(\"Number of wheat on 8by8 chessboard is:\")\n",
    "print(num_of_wheat_append(8,8))"
   ]
  },
  {
   "cell_type": "code",
   "execution_count": 18,
   "id": "50a5e2b3",
   "metadata": {},
   "outputs": [
    {
     "name": "stdout",
     "output_type": "stream",
     "text": [
      "Number of wheat in the last trout:  [                  1                   2                   4\n",
      "                   8                  16                  32\n",
      "                  64                 128                 256\n",
      "                 512                1024                2048\n",
      "                4096                8192               16384\n",
      "               32768               65536              131072\n",
      "              262144              524288             1048576\n",
      "             2097152             4194304             8388608\n",
      "            16777216            33554432            67108864\n",
      "           134217728           268435456           536870912\n",
      "          1073741824          2147483648          4294967296\n",
      "          8589934592         17179869184         34359738368\n",
      "         68719476736        137438953472        274877906944\n",
      "        549755813888       1099511627776       2199023255552\n",
      "       4398046511104       8796093022208      17592186044416\n",
      "      35184372088832      70368744177664     140737488355328\n",
      "     281474976710656     562949953421312    1125899906842624\n",
      "    2251799813685248    4503599627370496    9007199254740992\n",
      "   18014398509481984   36028797018963968   72057594037927936\n",
      "  144115188075855872  288230376151711744  576460752303423488\n",
      " 1152921504606846976 2305843009213693952 4611686018427387904\n",
      " 9223372036854775808]\n"
     ]
    }
   ],
   "source": [
    "#Broadcas method\n",
    "num_square = 64\n",
    "indices_square = np.arange(n_squares).astype(np.uint64)\n",
    "board_broadcast = 2**indices_square\n",
    "print(\"Number of wheat in the last trout: \", board_broadcast)"
   ]
  },
  {
   "cell_type": "code",
   "execution_count": 22,
   "id": "9566e021",
   "metadata": {},
   "outputs": [
    {
     "name": "stderr",
     "output_type": "stream",
     "text": [
      "UsageError: Line magic function `%%timeit` not found.\n"
     ]
    }
   ],
   "source": [
    "#PROBLEM 7\n",
    "%%timeit\n",
    "num_of_wheat"
   ]
  },
  {
   "cell_type": "code",
   "execution_count": 20,
   "id": "d8f594e8",
   "metadata": {},
   "outputs": [
    {
     "name": "stdout",
     "output_type": "stream",
     "text": [
      "24.3 ns ± 0.106 ns per loop (mean ± std. dev. of 7 runs, 10,000,000 loops each)\n"
     ]
    }
   ],
   "source": [
    "%%timeit\n",
    "num_of_wheat_append"
   ]
  },
  {
   "cell_type": "code",
   "execution_count": 21,
   "id": "39fe8d9c",
   "metadata": {},
   "outputs": [
    {
     "name": "stdout",
     "output_type": "stream",
     "text": [
      "22.6 ns ± 0.163 ns per loop (mean ± std. dev. of 7 runs, 10,000,000 loops each)\n"
     ]
    }
   ],
   "source": [
    "%%timeit\n",
    "board_broadcast"
   ]
  },
  {
   "cell_type": "code",
   "execution_count": null,
   "id": "54d883c9",
   "metadata": {},
   "outputs": [],
   "source": []
  }
 ],
 "metadata": {
  "kernelspec": {
   "display_name": "Python 3 (ipykernel)",
   "language": "python",
   "name": "python3"
  },
  "language_info": {
   "codemirror_mode": {
    "name": "ipython",
    "version": 3
   },
   "file_extension": ".py",
   "mimetype": "text/x-python",
   "name": "python",
   "nbconvert_exporter": "python",
   "pygments_lexer": "ipython3",
   "version": "3.8.10"
  }
 },
 "nbformat": 4,
 "nbformat_minor": 5
}
